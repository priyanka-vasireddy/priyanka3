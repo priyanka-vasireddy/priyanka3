{
 "cells": [
  {
   "cell_type": "code",
   "execution_count": 11,
   "id": "fc3e29e5",
   "metadata": {},
   "outputs": [
    {
     "name": "stdout",
     "output_type": "stream",
     "text": [
      "a is greater than b\n"
     ]
    }
   ],
   "source": [
    "a=12;b=10;\n",
    "if a>b:\n",
    "  print (\"a is greater than b\");"
   ]
  },
  {
   "cell_type": "code",
   "execution_count": 10,
   "id": "90efe576",
   "metadata": {},
   "outputs": [
    {
     "name": "stdout",
     "output_type": "stream",
     "text": [
      "b greater than a\n"
     ]
    }
   ],
   "source": [
    "a=10\n",
    "b=200\n",
    "if b>a:\n",
    " print(\"b greater than a\");"
   ]
  },
  {
   "cell_type": "code",
   "execution_count": null,
   "id": "78b50c42",
   "metadata": {},
   "outputs": [],
   "source": []
  },
  {
   "cell_type": "code",
   "execution_count": null,
   "id": "5d02fd3b",
   "metadata": {},
   "outputs": [],
   "source": []
  }
 ],
 "metadata": {
  "kernelspec": {
   "display_name": "Python 3 (ipykernel)",
   "language": "python",
   "name": "python3"
  },
  "language_info": {
   "codemirror_mode": {
    "name": "ipython",
    "version": 3
   },
   "file_extension": ".py",
   "mimetype": "text/x-python",
   "name": "python",
   "nbconvert_exporter": "python",
   "pygments_lexer": "ipython3",
   "version": "3.9.13"
  }
 },
 "nbformat": 4,
 "nbformat_minor": 5
}
